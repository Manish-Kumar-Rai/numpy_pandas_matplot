{
 "cells": [
  {
   "cell_type": "code",
   "execution_count": 1,
   "id": "23b06e6b",
   "metadata": {},
   "outputs": [],
   "source": [
    "import numpy as np\n",
    "import pandas as pd"
   ]
  },
  {
   "cell_type": "code",
   "execution_count": 2,
   "id": "26b9cb9b",
   "metadata": {},
   "outputs": [],
   "source": [
    "#----------------Ndarray-----------------------"
   ]
  },
  {
   "cell_type": "code",
   "execution_count": 11,
   "id": "0bc71aae",
   "metadata": {},
   "outputs": [
    {
     "data": {
      "text/plain": [
       "array([1, 5, 8, 9, 6], dtype=int64)"
      ]
     },
     "execution_count": 11,
     "metadata": {},
     "output_type": "execute_result"
    }
   ],
   "source": [
    "a = np.array([1,5,8,9,6,],dtype = \"int64\")\n",
    "a"
   ]
  },
  {
   "cell_type": "code",
   "execution_count": 29,
   "id": "6d043dfc",
   "metadata": {},
   "outputs": [
    {
     "data": {
      "text/plain": [
       "numpy.ndarray"
      ]
     },
     "execution_count": 29,
     "metadata": {},
     "output_type": "execute_result"
    }
   ],
   "source": [
    "type(a)"
   ]
  },
  {
   "cell_type": "code",
   "execution_count": 12,
   "id": "da44a20b",
   "metadata": {},
   "outputs": [
    {
     "data": {
      "text/plain": [
       "dtype('int64')"
      ]
     },
     "execution_count": 12,
     "metadata": {},
     "output_type": "execute_result"
    }
   ],
   "source": [
    "#In order to know the associated dtype to the just created ndarray, you have to use the dtype attribute.\n",
    "a.dtype"
   ]
  },
  {
   "cell_type": "code",
   "execution_count": 19,
   "id": "e0579203",
   "metadata": {},
   "outputs": [],
   "source": [
    "#To obtain these values from the corresponding array it is sufficient to use the ndim attribute for getting the axes, the \n",
    "#size attribute to know the array length, and the shape attribute to get its shape.\n",
    "\n",
    "# a.ndim\n",
    "# a.size\n",
    "# a.shape"
   ]
  },
  {
   "cell_type": "code",
   "execution_count": 22,
   "id": "411bec6f",
   "metadata": {},
   "outputs": [
    {
     "name": "stdout",
     "output_type": "stream",
     "text": [
      "<class 'numpy.ndarray'> 4 2 (2, 2) float64\n"
     ]
    }
   ],
   "source": [
    "#2-D array\n",
    "b = np.array([[1.2,2.4],[0.3,5.1]])\n",
    "print(type(b),b.size,b.ndim,b.shape,b.dtype)"
   ]
  },
  {
   "cell_type": "code",
   "execution_count": 23,
   "id": "9771461a",
   "metadata": {},
   "outputs": [
    {
     "data": {
      "text/plain": [
       "8"
      ]
     },
     "execution_count": 23,
     "metadata": {},
     "output_type": "execute_result"
    }
   ],
   "source": [
    "#Another important attribute is itemsize, which can be used with ndarray objects. It defines the size \n",
    "#in bytes of each item in the array,\n",
    "b.itemsize"
   ]
  },
  {
   "cell_type": "code",
   "execution_count": 26,
   "id": "a57b58bd",
   "metadata": {},
   "outputs": [
    {
     "data": {
      "text/plain": [
       "array([[1, 3],\n",
       "       [4, 6],\n",
       "       [7, 9]])"
      ]
     },
     "execution_count": 26,
     "metadata": {},
     "output_type": "execute_result"
    }
   ],
   "source": [
    "#------------Create an Array--------------\n",
    "# b = np.array([[1.2,2.4],[0.3,5.1]])\n",
    "#The array() function in addition to the lists can accept even tuples and sequences of tuples.\n",
    "c = np.array(((1,2),(3,4)))\n",
    "#and also, even sequences of tuples and lists interconnected make no difference.\n",
    "d = np.array(((1,3),[4,6],(7,9)))\n",
    "d"
   ]
  },
  {
   "cell_type": "code",
   "execution_count": 30,
   "id": "29a1749c",
   "metadata": {},
   "outputs": [
    {
     "name": "stdout",
     "output_type": "stream",
     "text": [
      "<U1 ----- str32\n"
     ]
    }
   ],
   "source": [
    "#----------------------Types of Data---------------\n",
    "#NumPy arrays are designed to contain a wide variety of data types\n",
    "e = np.array([[\"a\",\"b\"],[\"c\",\"d\"]])\n",
    "print(e.dtype,\"-----\",e.dtype.name)"
   ]
  },
  {
   "cell_type": "code",
   "execution_count": 32,
   "id": "0f5bf80a",
   "metadata": {},
   "outputs": [],
   "source": [
    "#-------------The dtype Option-----------------\n",
    "#Actually, you can explicitly define the dtype using the dtype option as argument of the function."
   ]
  },
  {
   "cell_type": "code",
   "execution_count": 38,
   "id": "e7399bb6",
   "metadata": {},
   "outputs": [],
   "source": [
    "f = np.array([[1,2,3],[4,5,6],[7,8,9]],dtype=\"complex\")\n",
    "# df = pd.DataFrame(f)"
   ]
  },
  {
   "cell_type": "code",
   "execution_count": 39,
   "id": "75c009e6",
   "metadata": {},
   "outputs": [],
   "source": [
    "#----------------Intrinsic Creation of an Array-----------\n",
    "#The NumPy library provides a set of functions that generate the ndarrays with an initial content, created with \n",
    "# some different values depending on the function"
   ]
  },
  {
   "cell_type": "code",
   "execution_count": 44,
   "id": "e7f035c0",
   "metadata": {},
   "outputs": [
    {
     "data": {
      "text/plain": [
       "array([[0, 0, 0],\n",
       "       [0, 0, 0],\n",
       "       [0, 0, 0],\n",
       "       [0, 0, 0]])"
      ]
     },
     "execution_count": 44,
     "metadata": {},
     "output_type": "execute_result"
    }
   ],
   "source": [
    "#The zeros() function, for example, creates a full array of zeros with dimensions defined by the shape argument.\n",
    "g = np.zeros((4,3),dtype=\"int32\")\n",
    "g"
   ]
  },
  {
   "cell_type": "code",
   "execution_count": 47,
   "id": "5b5ad0a5",
   "metadata": {},
   "outputs": [
    {
     "data": {
      "text/plain": [
       "array([[1, 1, 1, 1, 1],\n",
       "       [1, 1, 1, 1, 1]], dtype=int64)"
      ]
     },
     "execution_count": 47,
     "metadata": {},
     "output_type": "execute_result"
    }
   ],
   "source": [
    "#while the ones() function creates an array full of ones in a very similar way.\n",
    "h = np.ones(shape=(2,5),dtype=\"int64\")\n",
    "h"
   ]
  },
  {
   "cell_type": "code",
   "execution_count": 53,
   "id": "44ebaaa6",
   "metadata": {},
   "outputs": [
    {
     "data": {
      "text/plain": [
       "array([ 0. , 10.1, 20.2, 30.3, 40.4, 50.5, 60.6, 70.7, 80.8, 90.9])"
      ]
     },
     "execution_count": 53,
     "metadata": {},
     "output_type": "execute_result"
    }
   ],
   "source": [
    "#A feature that will be particularly useful is arange(). This function generates NumPy arrays with numerical sequences that \n",
    "# respond to particular rules depending on the passed arguments. F\n",
    "i = np.arange(10)\n",
    "#OR\n",
    "#the first is the starting value and the second is the final value.\n",
    "i = np.arange(4,15)\n",
    "#If the third argument of the arange() function is specified, this will represent the gap between a value and the next one \n",
    "# in the sequence of values.\n",
    "i = np.arange(0,101,10)\n",
    "#In addition, this third argument can also be a float.\n",
    "i = np.arange(0,101,10.1)\n",
    "i"
   ]
  },
  {
   "cell_type": "code",
   "execution_count": 58,
   "id": "d255a466",
   "metadata": {},
   "outputs": [
    {
     "data": {
      "text/plain": [
       "array([[ 1,  2,  3,  4,  5,  6,  7,  8,  9, 10],\n",
       "       [11, 12, 13, 14, 15, 16, 17, 18, 19, 20],\n",
       "       [21, 22, 23, 24, 25, 26, 27, 28, 29, 30],\n",
       "       [31, 32, 33, 34, 35, 36, 37, 38, 39, 40],\n",
       "       [41, 42, 43, 44, 45, 46, 47, 48, 49, 50]])"
      ]
     },
     "execution_count": 58,
     "metadata": {},
     "output_type": "execute_result"
    }
   ],
   "source": [
    "#To generate two-dimensional arrays you can still continue to use the arange() function \n",
    "# but combined with the reshape() function.\n",
    "i = np.arange(1,51).reshape(5,10)\n",
    "i"
   ]
  },
  {
   "cell_type": "code",
   "execution_count": 61,
   "id": "76df6abe",
   "metadata": {},
   "outputs": [
    {
     "data": {
      "text/plain": [
       "array([ 0. ,  2.5,  5. ,  7.5, 10. ])"
      ]
     },
     "execution_count": 61,
     "metadata": {},
     "output_type": "execute_result"
    }
   ],
   "source": [
    "# Another function very similar to arange() is linspace(). This function still takes as its first two \n",
    "# arguments the initial and end values of the sequence, but the third argument, instead of specifying the \n",
    "# distance between one element and the next, defines the number of elements into which we want the interval \n",
    "# to be split.\n",
    "j = np.linspace(0,10,5)\n",
    "j"
   ]
  },
  {
   "cell_type": "code",
   "execution_count": 66,
   "id": "d971fe93",
   "metadata": {},
   "outputs": [
    {
     "data": {
      "text/plain": [
       "array([[9, 7],\n",
       "       [6, 3],\n",
       "       [7, 3],\n",
       "       [5, 7]])"
      ]
     },
     "execution_count": 66,
     "metadata": {},
     "output_type": "execute_result"
    }
   ],
   "source": [
    "# Finally, another method to obtain arrays already containing values is to fill them with random values. \n",
    "# This is possible using the random() function of the numpy.random module. This function will generate an \n",
    "# array with many elements as specified in the argument.\n",
    "k = np.array(np.round(np.random.random((4,2))*10,0),dtype=\"int32\")\n",
    "k"
   ]
  },
  {
   "cell_type": "code",
   "execution_count": 67,
   "id": "1a22d7c5",
   "metadata": {},
   "outputs": [],
   "source": [
    "#-------------------Basic Operations-----------------"
   ]
  },
  {
   "cell_type": "code",
   "execution_count": 80,
   "id": "60092ac6",
   "metadata": {},
   "outputs": [
    {
     "data": {
      "text/plain": [
       "array([[ 0,  6, 12],\n",
       "       [18, 24, 30],\n",
       "       [36, 42, 48]])"
      ]
     },
     "execution_count": 80,
     "metadata": {},
     "output_type": "execute_result"
    }
   ],
   "source": [
    "#Arithmetic Operators\n",
    "l = np.arange(1,11)\n",
    "#Scaler\n",
    "# l + 2\n",
    "# l * 2\n",
    "#B/w 2 array : Element-wise \n",
    "a = np.arange(4)\n",
    "b = np.arange(4,8)\n",
    "a + b\n",
    "#Moreover, these operators are also available for functions, provided that the value returned is a NumPy array.\n",
    "a * np.sin(b)\n",
    "#Moving on to the multidimensional case, even here the arithmetic operators continue to operate element-wise.\n",
    "a = np.arange(9).reshape(3,3)\n",
    "b = np.ones((3,3))\n",
    "a * 6"
   ]
  },
  {
   "cell_type": "code",
   "execution_count": 83,
   "id": "6ae18f42",
   "metadata": {},
   "outputs": [
    {
     "data": {
      "text/plain": [
       "array([[ 3.,  3.,  3.],\n",
       "       [12., 12., 12.],\n",
       "       [21., 21., 21.]])"
      ]
     },
     "execution_count": 83,
     "metadata": {},
     "output_type": "execute_result"
    }
   ],
   "source": [
    "#---------The Matrix Product--------\n",
    "#dot() function. This operation is not element-wise.\n",
    "np.dot(a,b)\n",
    "#An alternative way\n",
    "a.dot(b)\n",
    "#OR\n",
    "a @ b"
   ]
  },
  {
   "cell_type": "code",
   "execution_count": 87,
   "id": "893cbc3f",
   "metadata": {},
   "outputs": [
    {
     "data": {
      "text/plain": [
       "array([[ 4,  5,  6],\n",
       "       [ 7,  8,  9],\n",
       "       [10, 11, 12]])"
      ]
     },
     "execution_count": 87,
     "metadata": {},
     "output_type": "execute_result"
    }
   ],
   "source": [
    "#-------------------Increment and Decrement Operators-----------------\n",
    "#instead of creating a new array with the results, they will reassign the results to the same array\n",
    "a += 2\n",
    "a"
   ]
  },
  {
   "cell_type": "code",
   "execution_count": 90,
   "id": "e04bb62c",
   "metadata": {},
   "outputs": [
    {
     "data": {
      "text/plain": [
       "array([0.        , 1.        , 1.41421356, 1.73205081, 2.        ,\n",
       "       2.23606798, 2.44948974, 2.64575131, 2.82842712, 3.        ])"
      ]
     },
     "execution_count": 90,
     "metadata": {},
     "output_type": "execute_result"
    }
   ],
   "source": [
    "#----------------Universal Functions (ufunc)------------\n",
    "# A universal function, generally called ufunc, is a function operating of an array in an element-by-element \n",
    "# fashion. This means that it is a function that acts individually on each single element of the input array to \n",
    "# generate a corresponding result in a new output array. At the end, you will obtain an array of the same size of \n",
    "# the input.\n",
    "a = np.arange(10)\n",
    "np.sqrt(a)"
   ]
  },
  {
   "cell_type": "code",
   "execution_count": 100,
   "id": "e97b907e",
   "metadata": {},
   "outputs": [
    {
     "name": "stdout",
     "output_type": "stream",
     "text": [
      "[10  1  2  1  4  6  3  0  5  2]\n"
     ]
    },
    {
     "data": {
      "text/plain": [
       "2.835489375751565"
      ]
     },
     "execution_count": 100,
     "metadata": {},
     "output_type": "execute_result"
    }
   ],
   "source": [
    "#-------------------Aggregate Functions--------------\n",
    "#Aggregate functions are those functions that perform an operation on a set of values, an array for example, \n",
    "# and produce a single result\n",
    "a = np.array(np.round(np.random.random(10)*10,0),dtype=\"int32\")\n",
    "print(a)\n",
    "a.min()\n",
    "a.max()\n",
    "a.sum()\n",
    "a.mean()\n",
    "a.var()\n",
    "a.std()"
   ]
  },
  {
   "cell_type": "code",
   "execution_count": 101,
   "id": "c7d9f9bf",
   "metadata": {},
   "outputs": [],
   "source": [
    "#-------------------------Indexing, Slicing, and Iterating-----------------------"
   ]
  },
  {
   "cell_type": "code",
   "execution_count": 104,
   "id": "37b5d7e7",
   "metadata": {},
   "outputs": [
    {
     "name": "stdout",
     "output_type": "stream",
     "text": [
      "[12 13 14 15 16 17 18]\n"
     ]
    },
    {
     "data": {
      "text/plain": [
       "array([14, 12, 17])"
      ]
     },
     "execution_count": 104,
     "metadata": {},
     "output_type": "execute_result"
    }
   ],
   "source": [
    "#In order to access a single element of an array you can refer to its index.\n",
    "a = np.arange(12,19)\n",
    "print(a)\n",
    "a[-4]\n",
    "#To select multiple items at once, you can pass array of indexes within the square brackets.\n",
    "a[[2,0,5]]"
   ]
  },
  {
   "cell_type": "code",
   "execution_count": 105,
   "id": "e1975a50",
   "metadata": {},
   "outputs": [],
   "source": [
    "#Moving on to the two-dimensional case, namely, the matrices, they are represented as rectangular \n",
    "# arrays consisting of rows and columns, defined by two axes, where axis 0 is represented by the rows and \n",
    "# axis 1 is represented by the columns."
   ]
  },
  {
   "cell_type": "code",
   "execution_count": 108,
   "id": "123ab080",
   "metadata": {},
   "outputs": [
    {
     "name": "stdout",
     "output_type": "stream",
     "text": [
      "[[2 5 4]\n",
      " [6 8 3]\n",
      " [7 7 8]]\n"
     ]
    },
    {
     "data": {
      "text/plain": [
       "3"
      ]
     },
     "execution_count": 108,
     "metadata": {},
     "output_type": "execute_result"
    }
   ],
   "source": [
    "a = np.array(np.round(np.random.random((3,3))*10,0),dtype=\"int32\")\n",
    "print(a)\n",
    "a[1,2]"
   ]
  },
  {
   "cell_type": "code",
   "execution_count": 114,
   "id": "6e32cfb5",
   "metadata": {},
   "outputs": [
    {
     "name": "stdout",
     "output_type": "stream",
     "text": [
      "[[ 2  1  2  6  4  3]\n",
      " [ 8  8  5  2  2  1]\n",
      " [ 2  8  7  6  3  8]\n",
      " [ 2  9  1  1 10  3]\n",
      " [ 1  3  8  4  7  9]\n",
      " [ 9  7  6  5  5  3]\n",
      " [ 3 10  6  4  5  1]\n",
      " [ 1  1  1  5  3  3]]\n"
     ]
    },
    {
     "data": {
      "text/plain": [
       "<numpy.flatiter at 0x283662a7810>"
      ]
     },
     "execution_count": 114,
     "metadata": {},
     "output_type": "execute_result"
    }
   ],
   "source": [
    "#--------------Slicing--------------------\n",
    "a = np.array(np.round(np.random.random((8,6))*10,0),dtype=\"int32\")\n",
    "print(a)\n",
    "# a[start:end:gap]\n",
    "a[0,:]\n",
    "# a.flat\n",
    "# a.flatten()"
   ]
  },
  {
   "cell_type": "code",
   "execution_count": 115,
   "id": "293a9080",
   "metadata": {},
   "outputs": [],
   "source": [
    "#--------------------Iterating an Array------------------------"
   ]
  },
  {
   "cell_type": "code",
   "execution_count": 11,
   "id": "e62f3e6c",
   "metadata": {},
   "outputs": [
    {
     "name": "stdout",
     "output_type": "stream",
     "text": [
      "[[ 1 10  1]\n",
      " [ 6  1  3]\n",
      " [ 4  6  6]]\n"
     ]
    },
    {
     "data": {
      "text/plain": [
       "array([11, 17, 10])"
      ]
     },
     "execution_count": 11,
     "metadata": {},
     "output_type": "execute_result"
    }
   ],
   "source": [
    "#---------------the apply_along_axis() function.\n",
    "#This function takes three arguments: the aggregate function, the axis on which to apply the iteration, \n",
    "# and finally the array. If the option axis equals 0, then the iteration evaluates the elements column by \n",
    "# column, whereas if the axis equals 1 then the iteration evaluates the elements row by row.\n",
    "a = np.array(np.round(np.random.random((3,3))*10,0),dtype=\"int32\")\n",
    "print(a)\n",
    "np.apply_along_axis(np.sum,axis=0,arr=a)"
   ]
  },
  {
   "cell_type": "code",
   "execution_count": 119,
   "id": "f4b2dde6",
   "metadata": {},
   "outputs": [],
   "source": [
    "#----------------------Conditions and Boolean Arrays-----------------"
   ]
  },
  {
   "cell_type": "code",
   "execution_count": 123,
   "id": "11721635",
   "metadata": {},
   "outputs": [
    {
     "data": {
      "text/plain": [
       "7"
      ]
     },
     "execution_count": 123,
     "metadata": {},
     "output_type": "execute_result"
    }
   ],
   "source": [
    "a = np.random.random((4,4))\n",
    "a[a < 0.5]"
   ]
  },
  {
   "cell_type": "code",
   "execution_count": 128,
   "id": "cd8de161",
   "metadata": {},
   "outputs": [
    {
     "data": {
      "text/plain": [
       "array([[0.01181945, 0.32539378, 0.9374689 , 0.91562878],\n",
       "       [0.22560535, 0.64753301, 0.56974608, 0.91806714],\n",
       "       [0.19864356, 0.17321121, 0.16756835, 0.05202825]])"
      ]
     },
     "execution_count": 128,
     "metadata": {},
     "output_type": "execute_result"
    }
   ],
   "source": [
    "#---------------------Shape Manipulation----------------------\n",
    "a = np.random.random(12)\n",
    "#returns new array\n",
    "a.reshape(4,3)\n",
    "#The reshape() function returns a new array and therefore it is useful to create new objects. However \n",
    "# if you want to modify the object by modifying the shape, you have to assign a tuple containing the new \n",
    "# dimensions directly to its shape attribute.\n",
    "a.shape = (3,4)\n",
    "a"
   ]
  },
  {
   "cell_type": "code",
   "execution_count": 132,
   "id": "8e580d02",
   "metadata": {},
   "outputs": [],
   "source": [
    "#The inverse operation is possible, that is, to convert a two-dimensional array into a one-dimensional array, \n",
    "# through the ravel() function.\n",
    "a = np.random.random(9).reshape(3,3)\n",
    "a.ravel()\n",
    "#or even here acting directly on the shape attribute of the array itself.\n",
    "a.shape = (9)"
   ]
  },
  {
   "cell_type": "code",
   "execution_count": 135,
   "id": "921370a8",
   "metadata": {},
   "outputs": [
    {
     "data": {
      "text/plain": [
       "array([[0.69913972, 0.72763913, 0.76007966, 0.46552643],\n",
       "       [0.95562237, 0.69316508, 0.04582606, 0.82992082],\n",
       "       [0.83831946, 0.97089178, 0.87913096, 0.78821075]])"
      ]
     },
     "execution_count": 135,
     "metadata": {},
     "output_type": "execute_result"
    }
   ],
   "source": [
    "#Another important operation is the transposition of a matrix that is an inversion of the columns with \n",
    "# rows. NumPy provides this feature with the transpose() function.\n",
    "a = np.random.random(12).reshape(4,3)\n",
    "a.transpose()"
   ]
  },
  {
   "cell_type": "code",
   "execution_count": 136,
   "id": "ae14fcba",
   "metadata": {},
   "outputs": [],
   "source": [
    "#-----------------Array Manipulation---------------"
   ]
  },
  {
   "cell_type": "code",
   "execution_count": 2,
   "id": "7a124f7e",
   "metadata": {},
   "outputs": [],
   "source": [
    "#--------Joining arrays"
   ]
  },
  {
   "cell_type": "code",
   "execution_count": 5,
   "id": "ea8f447b",
   "metadata": {},
   "outputs": [],
   "source": [
    "a = np.ones((3,3))\n",
    "b = np.zeros((3,3))"
   ]
  },
  {
   "cell_type": "code",
   "execution_count": 9,
   "id": "af6dce3f",
   "metadata": {},
   "outputs": [
    {
     "data": {
      "text/plain": [
       "array([[0., 0., 0., 1., 1., 1.],\n",
       "       [0., 0., 0., 1., 1., 1.],\n",
       "       [0., 0., 0., 1., 1., 1.]])"
      ]
     },
     "execution_count": 9,
     "metadata": {},
     "output_type": "execute_result"
    }
   ],
   "source": [
    "#Vertical Stack\n",
    "np.vstack((b,a))\n",
    "#Horizontal stack\n",
    "np.hstack((b,a))"
   ]
  },
  {
   "cell_type": "code",
   "execution_count": 17,
   "id": "03b10554",
   "metadata": {},
   "outputs": [
    {
     "data": {
      "text/plain": [
       "array([[1, 2, 3],\n",
       "       [4, 5, 6],\n",
       "       [7, 8, 9]])"
      ]
     },
     "execution_count": 17,
     "metadata": {},
     "output_type": "execute_result"
    }
   ],
   "source": [
    "# Two other functions performing stacking between multiple arrays are column_stack() and \n",
    "# row_stack(). These functions operate differently than the two previous functions. Generally these functions \n",
    "# are used with one-dimensional arrays that are stacked as columns or rows in order to form a new two-dimensional array.\n",
    "a = np.array([1,2,3])\n",
    "b = np.array([4,5,6])\n",
    "c = np.array([7,8,9])\n",
    "#row stack\n",
    "np.row_stack((a,b,c))\n",
    "#column stack\n",
    "np.column_stack((a,b,c))"
   ]
  },
  {
   "cell_type": "code",
   "execution_count": 19,
   "id": "12d49337",
   "metadata": {},
   "outputs": [],
   "source": [
    "#----------Splitting Arrays---------------"
   ]
  },
  {
   "cell_type": "code",
   "execution_count": 21,
   "id": "470d706c",
   "metadata": {},
   "outputs": [
    {
     "data": {
      "text/plain": [
       "array([[ 1,  2,  3,  4],\n",
       "       [ 5,  6,  7,  8],\n",
       "       [ 9, 10, 11, 12],\n",
       "       [13, 14, 15, 16]])"
      ]
     },
     "execution_count": 21,
     "metadata": {},
     "output_type": "execute_result"
    }
   ],
   "source": [
    "a = np.arange(1,17).reshape(4,4)\n",
    "a"
   ]
  },
  {
   "cell_type": "code",
   "execution_count": 32,
   "id": "53a9ed1e",
   "metadata": {},
   "outputs": [
    {
     "name": "stdout",
     "output_type": "stream",
     "text": [
      "[1 2 3 4]\n",
      "[[5 6 7 8]]\n"
     ]
    }
   ],
   "source": [
    "#Horizontal Split\n",
    "[b,c,d,e] = np.hsplit(a,4)\n",
    "#vertical split\n",
    "b,c,d,e = np.vsplit(a,4)\n",
    "print(b[0])\n",
    "print(c)"
   ]
  },
  {
   "cell_type": "code",
   "execution_count": 33,
   "id": "d1e2e4d2",
   "metadata": {},
   "outputs": [],
   "source": [
    "# A more complex command is the split() function, which allows you to split the array into \n",
    "# nonsymmetrical parts. In addition, passing the array as an argument, you have also to specify the indexes \n",
    "# of the parts to be divided. If you use the option axis = 1, then the indexes will be those of the columns; if \n",
    "# instead the option is axis = 0, then they will be the row indexes."
   ]
  },
  {
   "cell_type": "code",
   "execution_count": 36,
   "id": "622a422d",
   "metadata": {},
   "outputs": [
    {
     "name": "stdout",
     "output_type": "stream",
     "text": [
      "[[1 2 3 4]] \n",
      " [[ 5  6  7  8]\n",
      " [ 9 10 11 12]] \n",
      " [[13 14 15 16]]\n"
     ]
    }
   ],
   "source": [
    "#For row split\n",
    "a = np.arange(1,17).reshape(4,4)\n",
    "a1,a2,a3 = np.split(a,[1,3],axis=0)\n",
    "print(a1,\"\\n\",a2,\"\\n\",a3)"
   ]
  },
  {
   "cell_type": "code",
   "execution_count": 37,
   "id": "e9dfb9e7",
   "metadata": {},
   "outputs": [],
   "source": [
    "#-----------------------General Concepts-----------------"
   ]
  },
  {
   "cell_type": "code",
   "execution_count": 38,
   "id": "d9a72a7e",
   "metadata": {},
   "outputs": [],
   "source": [
    "#Copies or Views of Objects\n",
    "a = np.array([1,2,3,4])\n",
    "b = a\n",
    "# If you assign one array a to another array b, actually you are not doing a copy but b is just another way to \n",
    "# call array a. I\n",
    "# When you perform the slicing of an array, actually the object returned is only a view of the original array."
   ]
  },
  {
   "cell_type": "code",
   "execution_count": 40,
   "id": "b7dd41f8",
   "metadata": {},
   "outputs": [],
   "source": [
    "# If you want to generate a complete copy and distinct array you can use the copy() function.\n",
    "a = np.array([1,2,3,4])\n",
    "b = a.copy()"
   ]
  },
  {
   "cell_type": "code",
   "execution_count": 43,
   "id": "8491f5da",
   "metadata": {},
   "outputs": [],
   "source": [
    "#------------------Vectorization\n",
    "# The vectorization is the absence of explicit loop during the developing of the code. These loops actually cannot be omitted,\n",
    "# but are implemented internally and then they are replaced by other constructs in the code.\n",
    "#a * b"
   ]
  },
  {
   "cell_type": "code",
   "execution_count": 44,
   "id": "ea684bc8",
   "metadata": {},
   "outputs": [],
   "source": [
    "#----Broadcasting\n",
    "# Broadcasting is the operation that allows an operator or a function to act on two or more arrays to operate \n",
    "# even if these arrays do not have exactly the same shape."
   ]
  },
  {
   "cell_type": "code",
   "execution_count": 45,
   "id": "8857ebab",
   "metadata": {},
   "outputs": [
    {
     "data": {
      "text/plain": [
       "array([[[0, 1]],\n",
       "\n",
       "       [[2, 3]],\n",
       "\n",
       "       [[4, 5]]])"
      ]
     },
     "execution_count": 45,
     "metadata": {},
     "output_type": "execute_result"
    }
   ],
   "source": [
    "m = np.arange(6).reshape(3, 1, 2)\n",
    "m"
   ]
  },
  {
   "cell_type": "code",
   "execution_count": 46,
   "id": "03b55344",
   "metadata": {},
   "outputs": [],
   "source": [
    "#Reading File with Tabular Data\n",
    "#data = np.genfromtxt('data.csv', delimiter=',', names=True)"
   ]
  }
 ],
 "metadata": {
  "kernelspec": {
   "display_name": "Python 3 (ipykernel)",
   "language": "python",
   "name": "python3"
  },
  "language_info": {
   "codemirror_mode": {
    "name": "ipython",
    "version": 3
   },
   "file_extension": ".py",
   "mimetype": "text/x-python",
   "name": "python",
   "nbconvert_exporter": "python",
   "pygments_lexer": "ipython3",
   "version": "3.10.9"
  }
 },
 "nbformat": 4,
 "nbformat_minor": 5
}
